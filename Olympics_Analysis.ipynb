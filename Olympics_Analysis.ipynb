{
 "cells": [
  {
   "cell_type": "markdown",
   "id": "44c8c1a2",
   "metadata": {},
   "source": [
    "### Import Dependencies\n",
    "- I used pyforest, a module that imports all general use libraries for EDA, visualization, and machine learning\n",
    "- Pyforest will also use the common case abbreviations such pd for pandas, plt for matplotlib etc..."
   ]
  },
  {
   "cell_type": "code",
   "execution_count": 2,
   "id": "3158c423",
   "metadata": {},
   "outputs": [],
   "source": [
    "import pyforest"
   ]
  },
  {
   "cell_type": "markdown",
   "id": "3c90847e",
   "metadata": {},
   "source": [
    "### Import, reformat, and clean data\n",
    "\n",
    "- The datasets were retrieved from kaggle. https://www.kaggle.com/the-guardian/olympic-games\n",
    "- The summers CSV only had the country code so i had to merge the summers.csv file  with the dictionary.csv so that the   \n",
    "  actual country name is shown. I did this because many people(including myself) may not be familiar with only the country codes."
   ]
  },
  {
   "cell_type": "code",
   "execution_count": 5,
   "id": "9623fc92",
   "metadata": {},
   "outputs": [
    {
     "data": {
      "application/javascript": [
       "\n",
       "        if (window._pyforest_update_imports_cell) { window._pyforest_update_imports_cell('import pandas as pd'); }\n",
       "    "
      ],
      "text/plain": [
       "<IPython.core.display.Javascript object>"
      ]
     },
     "metadata": {},
     "output_type": "display_data"
    },
    {
     "data": {
      "application/javascript": [
       "\n",
       "        if (window._pyforest_update_imports_cell) { window._pyforest_update_imports_cell('import pandas as pd'); }\n",
       "    "
      ],
      "text/plain": [
       "<IPython.core.display.Javascript object>"
      ]
     },
     "metadata": {},
     "output_type": "display_data"
    }
   ],
   "source": [
    "# Read in the csv files\n",
    "dictionary = pd.read_csv('Data/dictionary.csv')\n",
    "summer = pd.read_csv('Data/summer.csv')"
   ]
  },
  {
   "cell_type": "markdown",
   "id": "50639af9",
   "metadata": {},
   "source": [
    "When I merged the files i noticed that we lost a couple thousand rowsof data"
   ]
  },
  {
   "cell_type": "code",
   "execution_count": 64,
   "id": "f94ca5ef",
   "metadata": {},
   "outputs": [
    {
     "data": {
      "application/javascript": [
       "\n",
       "        if (window._pyforest_update_imports_cell) { window._pyforest_update_imports_cell('import pandas as pd'); }\n",
       "    "
      ],
      "text/plain": [
       "<IPython.core.display.Javascript object>"
      ]
     },
     "metadata": {},
     "output_type": "display_data"
    },
    {
     "name": "stdout",
     "output_type": "stream",
     "text": [
      "We lost 5423 rows when we merged\n"
     ]
    },
    {
     "data": {
      "application/javascript": [
       "\n",
       "        if (window._pyforest_update_imports_cell) { window._pyforest_update_imports_cell('import pandas as pd'); }\n",
       "    "
      ],
      "text/plain": [
       "<IPython.core.display.Javascript object>"
      ]
     },
     "metadata": {},
     "output_type": "display_data"
    }
   ],
   "source": [
    "# merge the dataframes \n",
    "merged_df = pd.merge(dictionary, summer, left_on = 'Code', right_on = 'Country')\n",
    "\n",
    "# check to see if any data was lost after the merge with inner join\n",
    "print(f'We lost {len(summer) - len(merged_df)} rows when we merged')\n",
    "\n",
    "# merge the dataframes using a right join so that all the data from the summers table is included and not lost \n",
    "merged_df = pd.merge(dictionary, summer, left_on = 'Code', right_on = 'Country', how = 'right')\n",
    "\n",
    "# drop the Code column as it has many nulls and we are already using the code column from the summers table\n",
    "merged_df.drop(columns = 'Code', inplace = True)\n",
    "\n",
    "#rename the columns for country_x and country_y\n",
    "merged_df.rename(columns = {'Country_x': 'Country', 'Country_y': 'Code'}, inplace = True)\n",
    "\n",
    "\n",
    "# check to see where i have nulls\n",
    "nulls_df = merged_df[merged_df.isna().any(axis = 1)]"
   ]
  },
  {
   "cell_type": "code",
   "execution_count": 65,
   "id": "3c5beaf5",
   "metadata": {},
   "outputs": [
    {
     "data": {
      "text/html": [
       "<div>\n",
       "<style scoped>\n",
       "    .dataframe tbody tr th:only-of-type {\n",
       "        vertical-align: middle;\n",
       "    }\n",
       "\n",
       "    .dataframe tbody tr th {\n",
       "        vertical-align: top;\n",
       "    }\n",
       "\n",
       "    .dataframe thead th {\n",
       "        text-align: right;\n",
       "    }\n",
       "</style>\n",
       "<table border=\"1\" class=\"dataframe\">\n",
       "  <thead>\n",
       "    <tr style=\"text-align: right;\">\n",
       "      <th></th>\n",
       "      <th>Country</th>\n",
       "      <th>Population</th>\n",
       "      <th>GDP per Capita</th>\n",
       "      <th>Year</th>\n",
       "      <th>City</th>\n",
       "      <th>Sport</th>\n",
       "      <th>Discipline</th>\n",
       "      <th>Athlete</th>\n",
       "      <th>Code</th>\n",
       "      <th>Gender</th>\n",
       "      <th>Event</th>\n",
       "      <th>Medal</th>\n",
       "    </tr>\n",
       "  </thead>\n",
       "  <tbody>\n",
       "    <tr>\n",
       "      <th>0</th>\n",
       "      <td>Afghanistan</td>\n",
       "      <td>32526562.0</td>\n",
       "      <td>594.323081</td>\n",
       "      <td>2008</td>\n",
       "      <td>Beijing</td>\n",
       "      <td>Taekwondo</td>\n",
       "      <td>Taekwondo</td>\n",
       "      <td>NIKPAI, Rohullah</td>\n",
       "      <td>AFG</td>\n",
       "      <td>Men</td>\n",
       "      <td>- 58 KG</td>\n",
       "      <td>Bronze</td>\n",
       "    </tr>\n",
       "    <tr>\n",
       "      <th>1</th>\n",
       "      <td>Afghanistan</td>\n",
       "      <td>32526562.0</td>\n",
       "      <td>594.323081</td>\n",
       "      <td>2012</td>\n",
       "      <td>London</td>\n",
       "      <td>Taekwondo</td>\n",
       "      <td>Taekwondo</td>\n",
       "      <td>NIKPAI, Rohullah</td>\n",
       "      <td>AFG</td>\n",
       "      <td>Men</td>\n",
       "      <td>58 - 68 KG</td>\n",
       "      <td>Bronze</td>\n",
       "    </tr>\n",
       "    <tr>\n",
       "      <th>2</th>\n",
       "      <td>Algeria</td>\n",
       "      <td>39666519.0</td>\n",
       "      <td>4206.031232</td>\n",
       "      <td>1984</td>\n",
       "      <td>Los Angeles</td>\n",
       "      <td>Boxing</td>\n",
       "      <td>Boxing</td>\n",
       "      <td>ZAOUI, Mohamed</td>\n",
       "      <td>ALG</td>\n",
       "      <td>Men</td>\n",
       "      <td>71-75KG</td>\n",
       "      <td>Bronze</td>\n",
       "    </tr>\n",
       "    <tr>\n",
       "      <th>3</th>\n",
       "      <td>Algeria</td>\n",
       "      <td>39666519.0</td>\n",
       "      <td>4206.031232</td>\n",
       "      <td>1984</td>\n",
       "      <td>Los Angeles</td>\n",
       "      <td>Boxing</td>\n",
       "      <td>Boxing</td>\n",
       "      <td>MOUSSA, Mustapha</td>\n",
       "      <td>ALG</td>\n",
       "      <td>Men</td>\n",
       "      <td>75 - 81KG (Light-Heavyweight)</td>\n",
       "      <td>Bronze</td>\n",
       "    </tr>\n",
       "    <tr>\n",
       "      <th>4</th>\n",
       "      <td>Algeria</td>\n",
       "      <td>39666519.0</td>\n",
       "      <td>4206.031232</td>\n",
       "      <td>1992</td>\n",
       "      <td>Barcelona</td>\n",
       "      <td>Athletics</td>\n",
       "      <td>Athletics</td>\n",
       "      <td>BOULMERKA, Hassiba</td>\n",
       "      <td>ALG</td>\n",
       "      <td>Women</td>\n",
       "      <td>1500M</td>\n",
       "      <td>Gold</td>\n",
       "    </tr>\n",
       "    <tr>\n",
       "      <th>...</th>\n",
       "      <td>...</td>\n",
       "      <td>...</td>\n",
       "      <td>...</td>\n",
       "      <td>...</td>\n",
       "      <td>...</td>\n",
       "      <td>...</td>\n",
       "      <td>...</td>\n",
       "      <td>...</td>\n",
       "      <td>...</td>\n",
       "      <td>...</td>\n",
       "      <td>...</td>\n",
       "      <td>...</td>\n",
       "    </tr>\n",
       "    <tr>\n",
       "      <th>31160</th>\n",
       "      <td>NaN</td>\n",
       "      <td>NaN</td>\n",
       "      <td>NaN</td>\n",
       "      <td>2012</td>\n",
       "      <td>London</td>\n",
       "      <td>Handball</td>\n",
       "      <td>Handball</td>\n",
       "      <td>VUKCEVIC, Marina</td>\n",
       "      <td>MNE</td>\n",
       "      <td>Women</td>\n",
       "      <td>Handball</td>\n",
       "      <td>Silver</td>\n",
       "    </tr>\n",
       "    <tr>\n",
       "      <th>31161</th>\n",
       "      <td>NaN</td>\n",
       "      <td>NaN</td>\n",
       "      <td>NaN</td>\n",
       "      <td>2012</td>\n",
       "      <td>London</td>\n",
       "      <td>Table Tennis</td>\n",
       "      <td>Table Tennis</td>\n",
       "      <td>FENG, Tian Wei</td>\n",
       "      <td>SGP</td>\n",
       "      <td>Women</td>\n",
       "      <td>Singles</td>\n",
       "      <td>Bronze</td>\n",
       "    </tr>\n",
       "    <tr>\n",
       "      <th>31162</th>\n",
       "      <td>NaN</td>\n",
       "      <td>NaN</td>\n",
       "      <td>NaN</td>\n",
       "      <td>2012</td>\n",
       "      <td>London</td>\n",
       "      <td>Table Tennis</td>\n",
       "      <td>Table Tennis</td>\n",
       "      <td>FENG, Tian Wei</td>\n",
       "      <td>SGP</td>\n",
       "      <td>Women</td>\n",
       "      <td>Team</td>\n",
       "      <td>Bronze</td>\n",
       "    </tr>\n",
       "    <tr>\n",
       "      <th>31163</th>\n",
       "      <td>NaN</td>\n",
       "      <td>NaN</td>\n",
       "      <td>NaN</td>\n",
       "      <td>2012</td>\n",
       "      <td>London</td>\n",
       "      <td>Table Tennis</td>\n",
       "      <td>Table Tennis</td>\n",
       "      <td>LI, Jia Wei</td>\n",
       "      <td>SGP</td>\n",
       "      <td>Women</td>\n",
       "      <td>Team</td>\n",
       "      <td>Bronze</td>\n",
       "    </tr>\n",
       "    <tr>\n",
       "      <th>31164</th>\n",
       "      <td>NaN</td>\n",
       "      <td>NaN</td>\n",
       "      <td>NaN</td>\n",
       "      <td>2012</td>\n",
       "      <td>London</td>\n",
       "      <td>Table Tennis</td>\n",
       "      <td>Table Tennis</td>\n",
       "      <td>WANG, Yuegu</td>\n",
       "      <td>SGP</td>\n",
       "      <td>Women</td>\n",
       "      <td>Team</td>\n",
       "      <td>Bronze</td>\n",
       "    </tr>\n",
       "  </tbody>\n",
       "</table>\n",
       "<p>31165 rows × 12 columns</p>\n",
       "</div>"
      ],
      "text/plain": [
       "           Country  Population  GDP per Capita  Year         City  \\\n",
       "0      Afghanistan  32526562.0      594.323081  2008      Beijing   \n",
       "1      Afghanistan  32526562.0      594.323081  2012       London   \n",
       "2          Algeria  39666519.0     4206.031232  1984  Los Angeles   \n",
       "3          Algeria  39666519.0     4206.031232  1984  Los Angeles   \n",
       "4          Algeria  39666519.0     4206.031232  1992    Barcelona   \n",
       "...            ...         ...             ...   ...          ...   \n",
       "31160          NaN         NaN             NaN  2012       London   \n",
       "31161          NaN         NaN             NaN  2012       London   \n",
       "31162          NaN         NaN             NaN  2012       London   \n",
       "31163          NaN         NaN             NaN  2012       London   \n",
       "31164          NaN         NaN             NaN  2012       London   \n",
       "\n",
       "              Sport    Discipline             Athlete Code Gender  \\\n",
       "0         Taekwondo     Taekwondo    NIKPAI, Rohullah  AFG    Men   \n",
       "1         Taekwondo     Taekwondo    NIKPAI, Rohullah  AFG    Men   \n",
       "2            Boxing        Boxing      ZAOUI, Mohamed  ALG    Men   \n",
       "3            Boxing        Boxing    MOUSSA, Mustapha  ALG    Men   \n",
       "4         Athletics     Athletics  BOULMERKA, Hassiba  ALG  Women   \n",
       "...             ...           ...                 ...  ...    ...   \n",
       "31160      Handball      Handball    VUKCEVIC, Marina  MNE  Women   \n",
       "31161  Table Tennis  Table Tennis      FENG, Tian Wei  SGP  Women   \n",
       "31162  Table Tennis  Table Tennis      FENG, Tian Wei  SGP  Women   \n",
       "31163  Table Tennis  Table Tennis         LI, Jia Wei  SGP  Women   \n",
       "31164  Table Tennis  Table Tennis         WANG, Yuegu  SGP  Women   \n",
       "\n",
       "                               Event   Medal  \n",
       "0                            - 58 KG  Bronze  \n",
       "1                         58 - 68 KG  Bronze  \n",
       "2                            71-75KG  Bronze  \n",
       "3      75 - 81KG (Light-Heavyweight)  Bronze  \n",
       "4                              1500M    Gold  \n",
       "...                              ...     ...  \n",
       "31160                       Handball  Silver  \n",
       "31161                        Singles  Bronze  \n",
       "31162                           Team  Bronze  \n",
       "31163                           Team  Bronze  \n",
       "31164                           Team  Bronze  \n",
       "\n",
       "[31165 rows x 12 columns]"
      ]
     },
     "execution_count": 65,
     "metadata": {},
     "output_type": "execute_result"
    }
   ],
   "source": [
    "merged_df"
   ]
  },
  {
   "cell_type": "code",
   "execution_count": 10,
   "id": "771aab58",
   "metadata": {},
   "outputs": [
    {
     "data": {
      "text/plain": [
       "Index(['Country', 'Code', 'Population', 'GDP per Capita'], dtype='object')"
      ]
     },
     "execution_count": 10,
     "metadata": {},
     "output_type": "execute_result"
    }
   ],
   "source": [
    "dictionary.columns"
   ]
  },
  {
   "cell_type": "code",
   "execution_count": 46,
   "id": "aff8caaf",
   "metadata": {},
   "outputs": [
    {
     "ename": "NameError",
     "evalue": "name 'hello' is not defined",
     "output_type": "error",
     "traceback": [
      "\u001b[1;31m---------------------------------------------------------------------------\u001b[0m",
      "\u001b[1;31mNameError\u001b[0m                                 Traceback (most recent call last)",
      "\u001b[1;32m<ipython-input-46-1cd80308eb4c>\u001b[0m in \u001b[0;36m<module>\u001b[1;34m()\u001b[0m\n\u001b[1;32m----> 1\u001b[1;33m \u001b[0mprint\u001b[0m\u001b[1;33m(\u001b[0m\u001b[0mhello\u001b[0m\u001b[1;33m)\u001b[0m\u001b[1;33m\u001b[0m\u001b[1;33m\u001b[0m\u001b[0m\n\u001b[0m",
      "\u001b[1;31mNameError\u001b[0m: name 'hello' is not defined"
     ]
    }
   ],
   "source": []
  },
  {
   "cell_type": "code",
   "execution_count": 44,
   "id": "a238b9c7",
   "metadata": {},
   "outputs": [
    {
     "data": {
      "text/plain": [
       "31165"
      ]
     },
     "execution_count": 44,
     "metadata": {},
     "output_type": "execute_result"
    }
   ],
   "source": []
  },
  {
   "cell_type": "code",
   "execution_count": 42,
   "id": "f4c3beee",
   "metadata": {},
   "outputs": [
    {
     "ename": "KeyError",
     "evalue": "\"None of [Index(['Bermuda*', 'Cuba', 'Cuba', 'Cuba', 'Cuba', 'Cuba', 'Cuba', 'Cuba',\\n       'Cuba', 'Cuba',\\n       ...\\n       'Venezuela', 'Venezuela', 'Venezuela', 'Venezuela', 'Venezuela',\\n       'Venezuela', 'Venezuela', 'Venezuela', 'Venezuela', 'Virgin Islands*'],\\n      dtype='object', length=600)] are in the [columns]\"",
     "output_type": "error",
     "traceback": [
      "\u001b[1;31m---------------------------------------------------------------------------\u001b[0m",
      "\u001b[1;31mKeyError\u001b[0m                                  Traceback (most recent call last)",
      "\u001b[1;32m<ipython-input-42-e6fa08a8ce97>\u001b[0m in \u001b[0;36m<module>\u001b[1;34m()\u001b[0m\n\u001b[1;32m----> 1\u001b[1;33m \u001b[0mdf_null\u001b[0m\u001b[1;33m[\u001b[0m\u001b[0mdf_null\u001b[0m\u001b[1;33m[\u001b[0m\u001b[1;34m'Country_x'\u001b[0m\u001b[1;33m]\u001b[0m\u001b[1;33m]\u001b[0m\u001b[1;33m\u001b[0m\u001b[1;33m\u001b[0m\u001b[0m\n\u001b[0m",
      "\u001b[1;32mC:\\Users\\delac\\anaconda3\\envs\\PythonData\\lib\\site-packages\\pandas\\core\\frame.py\u001b[0m in \u001b[0;36m__getitem__\u001b[1;34m(self, key)\u001b[0m\n\u001b[0;32m   2999\u001b[0m             \u001b[1;32mif\u001b[0m \u001b[0mis_iterator\u001b[0m\u001b[1;33m(\u001b[0m\u001b[0mkey\u001b[0m\u001b[1;33m)\u001b[0m\u001b[1;33m:\u001b[0m\u001b[1;33m\u001b[0m\u001b[1;33m\u001b[0m\u001b[0m\n\u001b[0;32m   3000\u001b[0m                 \u001b[0mkey\u001b[0m \u001b[1;33m=\u001b[0m \u001b[0mlist\u001b[0m\u001b[1;33m(\u001b[0m\u001b[0mkey\u001b[0m\u001b[1;33m)\u001b[0m\u001b[1;33m\u001b[0m\u001b[1;33m\u001b[0m\u001b[0m\n\u001b[1;32m-> 3001\u001b[1;33m             \u001b[0mindexer\u001b[0m \u001b[1;33m=\u001b[0m \u001b[0mself\u001b[0m\u001b[1;33m.\u001b[0m\u001b[0mloc\u001b[0m\u001b[1;33m.\u001b[0m\u001b[0m_convert_to_indexer\u001b[0m\u001b[1;33m(\u001b[0m\u001b[0mkey\u001b[0m\u001b[1;33m,\u001b[0m \u001b[0maxis\u001b[0m\u001b[1;33m=\u001b[0m\u001b[1;36m1\u001b[0m\u001b[1;33m,\u001b[0m \u001b[0mraise_missing\u001b[0m\u001b[1;33m=\u001b[0m\u001b[1;32mTrue\u001b[0m\u001b[1;33m)\u001b[0m\u001b[1;33m\u001b[0m\u001b[1;33m\u001b[0m\u001b[0m\n\u001b[0m\u001b[0;32m   3002\u001b[0m \u001b[1;33m\u001b[0m\u001b[0m\n\u001b[0;32m   3003\u001b[0m         \u001b[1;31m# take() does not accept boolean indexers\u001b[0m\u001b[1;33m\u001b[0m\u001b[1;33m\u001b[0m\u001b[1;33m\u001b[0m\u001b[0m\n",
      "\u001b[1;32mC:\\Users\\delac\\anaconda3\\envs\\PythonData\\lib\\site-packages\\pandas\\core\\indexing.py\u001b[0m in \u001b[0;36m_convert_to_indexer\u001b[1;34m(self, obj, axis, is_setter, raise_missing)\u001b[0m\n\u001b[0;32m   1283\u001b[0m                 \u001b[1;31m# When setting, missing keys are not allowed, even with .loc:\u001b[0m\u001b[1;33m\u001b[0m\u001b[1;33m\u001b[0m\u001b[1;33m\u001b[0m\u001b[0m\n\u001b[0;32m   1284\u001b[0m                 \u001b[0mkwargs\u001b[0m \u001b[1;33m=\u001b[0m \u001b[1;33m{\u001b[0m\u001b[1;34m\"raise_missing\"\u001b[0m\u001b[1;33m:\u001b[0m \u001b[1;32mTrue\u001b[0m \u001b[1;32mif\u001b[0m \u001b[0mis_setter\u001b[0m \u001b[1;32melse\u001b[0m \u001b[0mraise_missing\u001b[0m\u001b[1;33m}\u001b[0m\u001b[1;33m\u001b[0m\u001b[1;33m\u001b[0m\u001b[0m\n\u001b[1;32m-> 1285\u001b[1;33m                 \u001b[1;32mreturn\u001b[0m \u001b[0mself\u001b[0m\u001b[1;33m.\u001b[0m\u001b[0m_get_listlike_indexer\u001b[0m\u001b[1;33m(\u001b[0m\u001b[0mobj\u001b[0m\u001b[1;33m,\u001b[0m \u001b[0maxis\u001b[0m\u001b[1;33m,\u001b[0m \u001b[1;33m**\u001b[0m\u001b[0mkwargs\u001b[0m\u001b[1;33m)\u001b[0m\u001b[1;33m[\u001b[0m\u001b[1;36m1\u001b[0m\u001b[1;33m]\u001b[0m\u001b[1;33m\u001b[0m\u001b[1;33m\u001b[0m\u001b[0m\n\u001b[0m\u001b[0;32m   1286\u001b[0m         \u001b[1;32melse\u001b[0m\u001b[1;33m:\u001b[0m\u001b[1;33m\u001b[0m\u001b[1;33m\u001b[0m\u001b[0m\n\u001b[0;32m   1287\u001b[0m             \u001b[1;32mtry\u001b[0m\u001b[1;33m:\u001b[0m\u001b[1;33m\u001b[0m\u001b[1;33m\u001b[0m\u001b[0m\n",
      "\u001b[1;32mC:\\Users\\delac\\anaconda3\\envs\\PythonData\\lib\\site-packages\\pandas\\core\\indexing.py\u001b[0m in \u001b[0;36m_get_listlike_indexer\u001b[1;34m(self, key, axis, raise_missing)\u001b[0m\n\u001b[0;32m   1090\u001b[0m \u001b[1;33m\u001b[0m\u001b[0m\n\u001b[0;32m   1091\u001b[0m         self._validate_read_indexer(\n\u001b[1;32m-> 1092\u001b[1;33m             \u001b[0mkeyarr\u001b[0m\u001b[1;33m,\u001b[0m \u001b[0mindexer\u001b[0m\u001b[1;33m,\u001b[0m \u001b[0mo\u001b[0m\u001b[1;33m.\u001b[0m\u001b[0m_get_axis_number\u001b[0m\u001b[1;33m(\u001b[0m\u001b[0maxis\u001b[0m\u001b[1;33m)\u001b[0m\u001b[1;33m,\u001b[0m \u001b[0mraise_missing\u001b[0m\u001b[1;33m=\u001b[0m\u001b[0mraise_missing\u001b[0m\u001b[1;33m\u001b[0m\u001b[1;33m\u001b[0m\u001b[0m\n\u001b[0m\u001b[0;32m   1093\u001b[0m         )\n\u001b[0;32m   1094\u001b[0m         \u001b[1;32mreturn\u001b[0m \u001b[0mkeyarr\u001b[0m\u001b[1;33m,\u001b[0m \u001b[0mindexer\u001b[0m\u001b[1;33m\u001b[0m\u001b[1;33m\u001b[0m\u001b[0m\n",
      "\u001b[1;32mC:\\Users\\delac\\anaconda3\\envs\\PythonData\\lib\\site-packages\\pandas\\core\\indexing.py\u001b[0m in \u001b[0;36m_validate_read_indexer\u001b[1;34m(self, key, indexer, axis, raise_missing)\u001b[0m\n\u001b[0;32m   1175\u001b[0m                 raise KeyError(\n\u001b[0;32m   1176\u001b[0m                     \"None of [{key}] are in the [{axis}]\".format(\n\u001b[1;32m-> 1177\u001b[1;33m                         \u001b[0mkey\u001b[0m\u001b[1;33m=\u001b[0m\u001b[0mkey\u001b[0m\u001b[1;33m,\u001b[0m \u001b[0maxis\u001b[0m\u001b[1;33m=\u001b[0m\u001b[0mself\u001b[0m\u001b[1;33m.\u001b[0m\u001b[0mobj\u001b[0m\u001b[1;33m.\u001b[0m\u001b[0m_get_axis_name\u001b[0m\u001b[1;33m(\u001b[0m\u001b[0maxis\u001b[0m\u001b[1;33m)\u001b[0m\u001b[1;33m\u001b[0m\u001b[1;33m\u001b[0m\u001b[0m\n\u001b[0m\u001b[0;32m   1178\u001b[0m                     )\n\u001b[0;32m   1179\u001b[0m                 )\n",
      "\u001b[1;31mKeyError\u001b[0m: \"None of [Index(['Bermuda*', 'Cuba', 'Cuba', 'Cuba', 'Cuba', 'Cuba', 'Cuba', 'Cuba',\\n       'Cuba', 'Cuba',\\n       ...\\n       'Venezuela', 'Venezuela', 'Venezuela', 'Venezuela', 'Venezuela',\\n       'Venezuela', 'Venezuela', 'Venezuela', 'Venezuela', 'Virgin Islands*'],\\n      dtype='object', length=600)] are in the [columns]\""
     ]
    }
   ],
   "source": []
  },
  {
   "cell_type": "code",
   "execution_count": null,
   "id": "00af540a",
   "metadata": {},
   "outputs": [],
   "source": []
  }
 ],
 "metadata": {
  "kernelspec": {
   "display_name": "PythonData",
   "language": "python",
   "name": "pythondata"
  },
  "language_info": {
   "codemirror_mode": {
    "name": "ipython",
    "version": 3
   },
   "file_extension": ".py",
   "mimetype": "text/x-python",
   "name": "python",
   "nbconvert_exporter": "python",
   "pygments_lexer": "ipython3",
   "version": "3.6.13"
  }
 },
 "nbformat": 4,
 "nbformat_minor": 5
}
